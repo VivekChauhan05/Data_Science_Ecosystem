{
  "metadata": {
    "language_info": {
      "codemirror_mode": {
        "name": "python",
        "version": 3
      },
      "file_extension": ".py",
      "mimetype": "text/x-python",
      "name": "python",
      "nbconvert_exporter": "python",
      "pygments_lexer": "ipython3",
      "version": "3.8"
    },
    "kernelspec": {
      "name": "python",
      "display_name": "Python (Pyodide)",
      "language": "python"
    }
  },
  "nbformat_minor": 4,
  "nbformat": 4,
  "cells": [
    {
      "cell_type": "markdown",
      "source": "# Data Science Tools and Ecosystem",
      "metadata": {}
    },
    {
      "cell_type": "markdown",
      "source": "# Introduction\nWelcome to this notebook where we will explore the exciting world of Data Science tools and ecosystem! As the field of Data Science continues to evolve, there are a vast number of tools and technologies available for working with data, ranging from data collection and cleaning to modeling and visualization. In this notebook, we will provide an overview of some of the most commonly used tools and resources in the Data Science ecosystem. Whether you are a beginner or an experienced practitioner, this notebook is designed to help you discover new tools and approaches that can help you in your work as a Data Scientist. So, let's get started!\n\n\n\n\n\n",
      "metadata": {}
    },
    {
      "cell_type": "markdown",
      "source": "Some of the popular languages that Data Scientists use are:\n1. Python\n2. R\n3. SQL",
      "metadata": {}
    },
    {
      "cell_type": "markdown",
      "source": "Some of the commonly used libraries used by Data Scientists include:\n1. NumPy\n2. Pandas\n3. Matplotlib",
      "metadata": {}
    },
    {
      "cell_type": "markdown",
      "source": "| Data Science Tools |\n| --- |\n| Jupyter Notebook |\n| RStudio |\n| Spyder |",
      "metadata": {}
    },
    {
      "cell_type": "markdown",
      "source": "### Below are a few examples of evaluating arithmetic expressions in Python\n\n3 + 4\n\n4 - 3\n\n2 * 5\n \n4 / 2\n\n5 ** 2\n\n10 % 3\n",
      "metadata": {}
    },
    {
      "cell_type": "code",
      "source": "# This is a simple arithmetic expression to multiply 3 and 4, then add 5 to the result.\nresult = (3*4) + 5\nprint(result)",
      "metadata": {},
      "execution_count": null,
      "outputs": []
    },
    {
      "cell_type": "code",
      "source": "# This will convert 200 minutes to hours by dividing by 60.\nminutes = 200\nhours = minutes / 60\nprint(hours)",
      "metadata": {},
      "execution_count": null,
      "outputs": []
    },
    {
      "cell_type": "markdown",
      "source": "**Objectives:**\n\n\n* Introducing arithmetic expression examples\n \n* List data science libraries\n \n* List popular languages for Data Science\n\n* Create a markdown cell with a table of Data Science tools\n\n ",
      "metadata": {}
    },
    {
      "cell_type": "markdown",
      "source": "## Author\nVivek",
      "metadata": {}
    },
    {
      "cell_type": "markdown",
      "source": "",
      "metadata": {}
    },
    {
      "cell_type": "code",
      "source": "",
      "metadata": {},
      "execution_count": null,
      "outputs": []
    }
  ]
}